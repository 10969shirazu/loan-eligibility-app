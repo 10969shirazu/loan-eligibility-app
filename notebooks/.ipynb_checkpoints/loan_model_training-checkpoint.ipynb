{
 "cells": [
  {
   "cell_type": "code",
   "execution_count": 1,
   "id": "cf160fca",
   "metadata": {},
   "outputs": [],
   "source": [
    "# 📚 Importations\n",
    "import pandas as pd\n",
    "import numpy as np\n",
    "from sklearn.model_selection import train_test_split\n",
    "from sklearn.preprocessing import LabelEncoder\n",
    "from sklearn.ensemble import RandomForestClassifier\n",
    "from sklearn.metrics import classification_report\n",
    "import joblib\n"
   ]
  },
  {
   "cell_type": "code",
   "execution_count": null,
   "id": "885b4995",
   "metadata": {},
   "outputs": [],
   "source": [
    "#  1. Chargement des données\n",
    "df = pd.read_csv('accepted.csv', low_memory=False)\n",
    "print(f\"Shape initial: {df.shape}\")"
   ]
  },
  {
   "cell_type": "code",
   "execution_count": null,
   "id": "325d5218",
   "metadata": {},
   "outputs": [],
   "source": [
    "#  2. Nettoyage de base\n",
    "threshold = int(0.7 * len(df.columns))\n",
    "df = df.dropna(thresh=threshold)\n",
    "\n",
    "# Supprimer colonne inutile\n",
    "if 'member_id' in df.columns:\n",
    "    df = df.drop(columns=['member_id'])\n",
    "\n",
    "# Garder seulement certaines features\n",
    "features = ['loan_amnt', 'term', 'int_rate', 'installment', 'grade', 'sub_grade',\n",
    "            'emp_length', 'home_ownership', 'annual_inc', 'verification_status',\n",
    "            'purpose', 'dti', 'delinq_2yrs', 'inq_last_6mths', 'open_acc',\n",
    "            'pub_rec', 'revol_bal', 'revol_util', 'total_acc', 'last_pymnt_amnt',\n",
    "            'loan_status']\n",
    "\n",
    "# Réduction du dataset\n",
    "df = df[features]\n",
    "print(f\"Shape après réduction: {df.shape}\")"
   ]
  },
  {
   "cell_type": "code",
   "execution_count": null,
   "id": "feb20057",
   "metadata": {},
   "outputs": [],
   "source": [
    "# 3. Cible binaire\n",
    "df = df[df['loan_status'].isin(['Fully Paid', 'Charged Off'])]\n",
    "df['loan_status'] = df['loan_status'].map({'Fully Paid': 1, 'Charged Off': 0})"
   ]
  },
  {
   "cell_type": "code",
   "execution_count": null,
   "id": "d1997228",
   "metadata": {},
   "outputs": [],
   "source": [
    "# 4. Encodage des variables catégoriques\n",
    "cat_features = ['term', 'grade', 'sub_grade', 'emp_length', 'home_ownership', 'verification_status', 'purpose']\n",
    "le = LabelEncoder()\n",
    "for col in cat_features:\n",
    "    df[col] = df[col].astype(str)  # Assurer que c'est du string\n",
    "    df[col] = le.fit_transform(df[col])"
   ]
  },
  {
   "cell_type": "code",
   "execution_count": null,
   "id": "77f76bff",
   "metadata": {},
   "outputs": [],
   "source": [
    "# 5. Gestion des valeurs manquantes\n",
    "for col in df.columns:\n",
    "    if df[col].isnull().sum() > 0:\n",
    "        if df[col].dtype == 'object':\n",
    "            df[col] = df[col].fillna(df[col].mode()[0])\n",
    "        else:\n",
    "            df[col] = df[col].fillna(df[col].median())"
   ]
  },
  {
   "cell_type": "code",
   "execution_count": null,
   "id": "3aa23df0",
   "metadata": {},
   "outputs": [],
   "source": [
    "# 6. Séparation X / y\n",
    "X = df.drop(columns=['loan_status'])\n",
    "y = df['loan_status']\n"
   ]
  },
  {
   "cell_type": "code",
   "execution_count": null,
   "id": "31235d13",
   "metadata": {},
   "outputs": [],
   "source": [
    "\n",
    "#  7. Split train/test\n",
    "X_train, X_test, y_train, y_test = train_test_split(X, y, test_size=0.2, random_state=42)"
   ]
  },
  {
   "cell_type": "code",
   "execution_count": null,
   "id": "75ec4a90",
   "metadata": {},
   "outputs": [],
   "source": [
    "#  8. Modèle Random Forest\n",
    "model = RandomForestClassifier(n_estimators=100, random_state=42)\n",
    "model.fit(X_train, y_train)"
   ]
  },
  {
   "cell_type": "code",
   "execution_count": null,
   "id": "90490ff9",
   "metadata": {},
   "outputs": [],
   "source": [
    "#  9. Évaluation\n",
    "y_pred = model.predict(X_test)\n",
    "print(classification_report(y_test, y_pred))"
   ]
  },
  {
   "cell_type": "code",
   "execution_count": null,
   "id": "aa6f1cda",
   "metadata": {},
   "outputs": [],
   "source": [
    "#  10. Sauvegarde du modèle\n",
    "joblib.dump(model, 'loan_model.pkl')\n",
    "print(\"\\n✅ Modèle entraîné et sauvegardé sous loan_model.pkl\")"
   ]
  }
 ],
 "metadata": {
  "kernelspec": {
   "display_name": "venv",
   "language": "python",
   "name": "python3"
  },
  "language_info": {
   "codemirror_mode": {
    "name": "ipython",
    "version": 3
   },
   "file_extension": ".py",
   "mimetype": "text/x-python",
   "name": "python",
   "nbconvert_exporter": "python",
   "pygments_lexer": "ipython3",
   "version": "3.13.2"
  }
 },
 "nbformat": 4,
 "nbformat_minor": 5
}
